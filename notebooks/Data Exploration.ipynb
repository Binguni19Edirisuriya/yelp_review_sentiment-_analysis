{
 "cells": [
  {
   "cell_type": "code",
   "execution_count": 31,
   "metadata": {},
   "outputs": [],
   "source": [
    "import pandas as pd\n",
    "import numpy as np\n",
    "import matplotlib.pyplot as plt"
   ]
  },
  {
   "cell_type": "code",
   "execution_count": 22,
   "metadata": {},
   "outputs": [],
   "source": [
    "review_df1 = pd.read_csv(r\"C:\\Users\\Binguni\\Desktop\\Yelp_analysis\\datasets\\yelp_data_unpacked.csv\")"
   ]
  },
  {
   "cell_type": "code",
   "execution_count": 23,
   "metadata": {},
   "outputs": [
    {
     "data": {
      "text/html": [
       "<div>\n",
       "<style scoped>\n",
       "    .dataframe tbody tr th:only-of-type {\n",
       "        vertical-align: middle;\n",
       "    }\n",
       "\n",
       "    .dataframe tbody tr th {\n",
       "        vertical-align: top;\n",
       "    }\n",
       "\n",
       "    .dataframe thead th {\n",
       "        text-align: right;\n",
       "    }\n",
       "</style>\n",
       "<table border=\"1\" class=\"dataframe\">\n",
       "  <thead>\n",
       "    <tr style=\"text-align: right;\">\n",
       "      <th></th>\n",
       "      <th>Alias</th>\n",
       "      <th>Name</th>\n",
       "      <th>Rating</th>\n",
       "      <th>Price</th>\n",
       "      <th>City</th>\n",
       "      <th>Zip_code</th>\n",
       "      <th>Address</th>\n",
       "      <th>Review</th>\n",
       "    </tr>\n",
       "  </thead>\n",
       "  <tbody>\n",
       "    <tr>\n",
       "      <th>0</th>\n",
       "      <td>morris-park-bake-shop-bronx</td>\n",
       "      <td>Morris Park Bake Shop</td>\n",
       "      <td>4.5</td>\n",
       "      <td>$$</td>\n",
       "      <td>Bronx</td>\n",
       "      <td>10462</td>\n",
       "      <td>1007 Morris Park Ave</td>\n",
       "      <td>'The chocolate cups are amazing! Have been eat...</td>\n",
       "    </tr>\n",
       "    <tr>\n",
       "      <th>1</th>\n",
       "      <td>morris-park-bake-shop-bronx</td>\n",
       "      <td>Morris Park Bake Shop</td>\n",
       "      <td>4.5</td>\n",
       "      <td>$$</td>\n",
       "      <td>Bronx</td>\n",
       "      <td>10462</td>\n",
       "      <td>1007 Morris Park Ave</td>\n",
       "      <td>'Morris Park Bake Shop has become my go to spo...</td>\n",
       "    </tr>\n",
       "    <tr>\n",
       "      <th>2</th>\n",
       "      <td>morris-park-bake-shop-bronx</td>\n",
       "      <td>Morris Park Bake Shop</td>\n",
       "      <td>4.5</td>\n",
       "      <td>$$</td>\n",
       "      <td>Bronx</td>\n",
       "      <td>10462</td>\n",
       "      <td>1007 Morris Park Ave</td>\n",
       "      <td>'I thought the cookies and biscotti were prett...</td>\n",
       "    </tr>\n",
       "    <tr>\n",
       "      <th>3</th>\n",
       "      <td>morris-park-bake-shop-bronx</td>\n",
       "      <td>Morris Park Bake Shop</td>\n",
       "      <td>4.5</td>\n",
       "      <td>$$</td>\n",
       "      <td>Bronx</td>\n",
       "      <td>10462</td>\n",
       "      <td>1007 Morris Park Ave</td>\n",
       "      <td>'Guys.... so Im a big time biscotti connoisseu...</td>\n",
       "    </tr>\n",
       "    <tr>\n",
       "      <th>4</th>\n",
       "      <td>morris-park-bake-shop-bronx</td>\n",
       "      <td>Morris Park Bake Shop</td>\n",
       "      <td>4.5</td>\n",
       "      <td>$$</td>\n",
       "      <td>Bronx</td>\n",
       "      <td>10462</td>\n",
       "      <td>1007 Morris Park Ave</td>\n",
       "      <td>'I had a craving for a special type of cake wi...</td>\n",
       "    </tr>\n",
       "  </tbody>\n",
       "</table>\n",
       "</div>"
      ],
      "text/plain": [
       "                         Alias                   Name  Rating Price   City  \\\n",
       "0  morris-park-bake-shop-bronx  Morris Park Bake Shop     4.5    $$  Bronx   \n",
       "1  morris-park-bake-shop-bronx  Morris Park Bake Shop     4.5    $$  Bronx   \n",
       "2  morris-park-bake-shop-bronx  Morris Park Bake Shop     4.5    $$  Bronx   \n",
       "3  morris-park-bake-shop-bronx  Morris Park Bake Shop     4.5    $$  Bronx   \n",
       "4  morris-park-bake-shop-bronx  Morris Park Bake Shop     4.5    $$  Bronx   \n",
       "\n",
       "   Zip_code               Address  \\\n",
       "0     10462  1007 Morris Park Ave   \n",
       "1     10462  1007 Morris Park Ave   \n",
       "2     10462  1007 Morris Park Ave   \n",
       "3     10462  1007 Morris Park Ave   \n",
       "4     10462  1007 Morris Park Ave   \n",
       "\n",
       "                                              Review  \n",
       "0  'The chocolate cups are amazing! Have been eat...  \n",
       "1  'Morris Park Bake Shop has become my go to spo...  \n",
       "2  'I thought the cookies and biscotti were prett...  \n",
       "3  'Guys.... so Im a big time biscotti connoisseu...  \n",
       "4  'I had a craving for a special type of cake wi...  "
      ]
     },
     "execution_count": 23,
     "metadata": {},
     "output_type": "execute_result"
    }
   ],
   "source": [
    "review_df1.head()"
   ]
  },
  {
   "cell_type": "code",
   "execution_count": 24,
   "metadata": {},
   "outputs": [
    {
     "data": {
      "text/plain": [
       "[('and', 4),\n",
       " ('a', 3),\n",
       " ('cake', 3),\n",
       " ('it', 3),\n",
       " ('had', 2),\n",
       " ('for', 2),\n",
       " ('layer', 2),\n",
       " ('this', 2),\n",
       " ('the', 2),\n",
       " ('bakery', 2)]"
      ]
     },
     "execution_count": 24,
     "metadata": {},
     "output_type": "execute_result"
    }
   ],
   "source": [
    "from collections import Counter\n",
    "import re\n",
    "\n",
    "rev1 = review_df1['Review'][4]\n",
    "\n",
    "words = re.findall(r'\\w+', rev1.lower())\n",
    "Counter(words).most_common(10)"
   ]
  },
  {
   "cell_type": "code",
   "execution_count": 27,
   "metadata": {},
   "outputs": [],
   "source": [
    "all_words = []\n",
    "\n",
    "review_df1 = review_df1.astype(str)\n",
    "for review in review_df1['Review']:\n",
    "    words = re.findall(r'\\w+', review.lower())\n",
    "    for word in words:\n",
    "        all_words.append(word)"
   ]
  },
  {
   "cell_type": "code",
   "execution_count": 29,
   "metadata": {},
   "outputs": [],
   "source": [
    "zipf = Counter(all_words).most_common(30)"
   ]
  },
  {
   "cell_type": "code",
   "execution_count": 32,
   "metadata": {},
   "outputs": [
    {
     "data": {
      "image/png": "[encoded data removed]",
      "text/plain": [
       "<Figure size 864x576 with 1 Axes>"
      ]
     },
     "metadata": {
      "needs_background": "light"
     },
     "output_type": "display_data"
    }
   ],
   "source": [
    "x = pd.DataFrame(zipf, columns=['word','count']).set_index('word')\n",
    "plt.figure(figsize=(12,8)) \n",
    "plt.bar(x.index, x['count'])\n",
    "plt.plot(x['count'],color='red',linewidth=3)\n",
    "plt.title(\"Zipf's Law from NYC Yelp Reviews\");"
   ]
  },
  {
   "cell_type": "code",
   "execution_count": null,
   "metadata": {},
   "outputs": [],
   "source": []
  }
 ],
 "metadata": {
  "kernelspec": {
   "display_name": "Python 3",
   "language": "python",
   "name": "python3"
  },
  "language_info": {
   "codemirror_mode": {
    "name": "ipython",
    "version": 3
   },
   "file_extension": ".py",
   "mimetype": "text/x-python",
   "name": "python",
   "nbconvert_exporter": "python",
   "pygments_lexer": "ipython3",
   "version": "3.8.3"
  }
 },
 "nbformat": 4,
 "nbformat_minor": 4
}
